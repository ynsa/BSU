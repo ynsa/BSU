{
 "cells": [
  {
   "cell_type": "markdown",
   "metadata": {},
   "source": [
    "#### Введение\n",
    "На лекции обсуждалось полезное свойство VCG аукциона, что каждому участнику выгодно в качестве ставки использовать свою частную ценность товара `value`, а менять её в зависимости от ставок других игроков - не выгодно.\n",
    "\n",
    "Ваша цель - реализовать аукцион с таким свойством."
   ]
  },
  {
   "cell_type": "markdown",
   "metadata": {},
   "source": [
    "#### Модель рекламного объявления\n",
    "В данной задаче, каждое объявление имеет свою частную ценность `value`, а также (тут отличие от примера с лекции) свою собственную вероятноть `prob` быть кликнутым в случае если пользователь дойдет до позиции на которой показывается объявление.\n",
    "\n",
    "По умолчанию стратегия ставки у каждого объявления - ставить свою ценность `value` (см. `get_bid` у `Advert`)\n",
    "\n",
    "Однако, мы хотим исследовать будет ли выгодно ставить значение отличное от `value`. Рекламное объявление, с иной стратегией ставки описывается классом `DeviantAdvert`."
   ]
  },
  {
   "cell_type": "code",
   "execution_count": null,
   "metadata": {},
   "outputs": [],
   "source": [
    "class Advert(object):\n",
    "    def init(self, gen):\n",
    "        self.prob = gen.random()\n",
    "        self._value = gen.random()*9+1\n",
    "        return self\n",
    "    \n",
    "    def __repr__(self):\n",
    "        return 'Prob: %0.3f, Value: %0.3f' % (\n",
    "            self.prob, self._value\n",
    "        )\n",
    "    \n",
    "    def get_bid(self, ads):\n",
    "        return self._value\n",
    "    \n",
    "    \n",
    "class DeviantAdvert(Advert):\n",
    "    def __init__(self, get_bid_func):\n",
    "        self.get_bid_func = get_bid_func\n",
    "        \n",
    "    def get_bid(self, ads):\n",
    "        if self.get_bid_func is not None:\n",
    "            bid = self.get_bid_func(self, ads)\n",
    "            assert bid >= 0.0\n",
    "            return bid\n",
    "        return Advert.get_bid(self, ads)"
   ]
  },
  {
   "cell_type": "markdown",
   "metadata": {},
   "source": [
    "#### Задача\n",
    "\n",
    "Далее, в качестве примера, описано три варианта аукциона. \n",
    "\n",
    "Функция аукциона принимает на вход список объектов класса `Advert`, а также список априорных вероятностей клика на каждую из рекламных позиций участвующих в аукционе. \n",
    "Можно считать, что вероятность клика на объявление `a`, поставленное на позицию `i`, будет равна `a.prob * position_prob[i]`\n",
    "\n",
    "Каждый из аукционов в качестве победителей выбирает объявления с максимальным матожиданием денег - `a.prob * a.get_bid()`\n",
    "\n",
    "Разница между ними в цене за клик.\n",
    "Аукцион \"первой цены\" в качестве цены за клик предлагает собственно свою ставку.\n",
    "Аукцион \"следующей цены\" в качестве цены за клик предлагает ставку следующего.\n",
    "\n",
    "Вам предлагается реализовать рассчет цены клика для аукциона vcg."
   ]
  },
  {
   "cell_type": "code",
   "execution_count": null,
   "metadata": {},
   "outputs": [],
   "source": [
    "def auction_first_price(ads, position_prob):\n",
    "    n = len(position_prob)\n",
    "    winners = sorted(ads, key=lambda ad: ad.prob * ad.get_bid(ads), reverse=True)[:n]\n",
    "    costs = [ad.get_bid(ads) for ad in winners]\n",
    "    return winners, costs\n",
    "\n",
    "def auction_next_price(ads, position_prob):\n",
    "    n = len(position_prob)\n",
    "    winners = sorted(ads, key=lambda ad: ad.prob * ad.get_bid(ads), reverse=True)[:n + 1]\n",
    "    costs = [winners[i + 1].get_bid(ads) for i in range(len(winners) - 1)]\n",
    "    del winners[-1]\n",
    "    return winners, costs\n",
    "\n",
    "\n",
    "def auction_vcg(ads, position_prob):\n",
    "    #\n",
    "    # кодить сюда\n",
    "    # лекция, страницы 37+, https://yadi.sk/i/v_ifDDKFDqb8tQ\n",
    "    # для рассчетов нельза использовать ad._value, так как он нам какбе неизвестен\n",
    "    #    "
   ]
  },
  {
   "cell_type": "markdown",
   "metadata": {},
   "source": [
    "#### Тест №1\n",
    "Для базового тестирования предлагается пример рассмотренный на лекции. В нем частные вероятности объявлений отсутствуют, поэтому мы положим их равными единице. \n",
    "Кликабельности позиций из лекции равные 100 и 80 превратим в вероятности 1.0 и 0.8\n",
    "Правильно реализованный vcg должен пройти этот тест"
   ]
  },
  {
   "cell_type": "code",
   "execution_count": null,
   "metadata": {},
   "outputs": [],
   "source": [
    "def test_from_lecture(auc, answer):\n",
    "    ads = [Advert() for i in range(3)]\n",
    "    ads[0]._value = 10\n",
    "    ads[1]._value = 4\n",
    "    ads[2]._value = 2\n",
    "    for i in range(3):\n",
    "        ads[i].prob = 1\n",
    "        \n",
    "    result = auc(ads, [1.0, 0.8])[1]\n",
    "    \n",
    "    error = max(abs(ri - ai) for ri, ai in zip(result, answer))\n",
    "    if error > 1e-7:\n",
    "        print(result, '!=', answer)\n",
    "    else:\n",
    "        print(auc.__name__, 'is fine!')\n",
    "    \n",
    "test_from_lecture(auction_first_price, [10, 4])\n",
    "test_from_lecture(auction_next_price, [4, 2])\n",
    "test_from_lecture(auction_vcg, [2.4, 2.0])"
   ]
  },
  {
   "cell_type": "markdown",
   "metadata": {},
   "source": [
    "#### Тест №2+\n",
    "\n",
    "Далее идет много кода суть которого сводится к следующему.\n",
    "\n",
    "Сгенерируем случайное множество рекламных объявлений.\n",
    "Все объявления кроме одного будут придерживаться \"честной\" стратегии ставки и ставить свою ценность `value`. \n",
    "Одно объявление будет реализовывать иную стратегию, задаваемую параметром `deviant_advert_func`.\n",
    "\n",
    "Далее разыграем аукцион и оценим профит полученный \"девиантом\". Сравним профит с вариантом, когда \"девиант\" поступает честно. Если профит от честной стратегии меньше, чем от нечестной - то тест аукциона считается проваленным.\n",
    "\n",
    "Правильно написанный аукцион vcg должен проходить такого рода тест для любой возможной deviant_advert_func. То есть никакая стратегия ставки не должна быть лучше, чем честная.\n",
    "\n",
    "В режиме debug=True выводится информация о первом проваленом аукционе: кандидаты, ставки, рассчитанная стоимость."
   ]
  },
  {
   "cell_type": "code",
   "execution_count": null,
   "metadata": {},
   "outputs": [],
   "source": [
    "from tqdm import tqdm\n",
    "from random import Random\n",
    "\n",
    "def test_deviant_strategy(auc, position_prob, deviant_advert_func=None, seed=42, debug=False):\n",
    "    assert position_prob == sorted(position_prob, reverse=True)\n",
    "    \n",
    "    doc_count = len(position_prob) + 1    \n",
    "    gen = Random(seed)    \n",
    "    for it in range(10000):\n",
    "        # генерируем объявления\n",
    "        ads = [Advert().init(gen) for i in range(doc_count - 1)]\n",
    "        ads.append(DeviantAdvert(deviant_advert_func).init(gen))\n",
    "        deviant = ads[-1]\n",
    "\n",
    "        # запускаем аукцион\n",
    "        winners, costs = auc(ads, position_prob)\n",
    "        assert len(winners) == len(position_prob), 'Something goes wrong'\n",
    "        assert min(costs) > 0, 'No free lunch'\n",
    "        \n",
    "        cur_deviant_profit = 0.0\n",
    "        for p, (ad, cost) in zip(position_prob, zip(winners, costs)):\n",
    "            if ad == deviant:\n",
    "                # матожидание профита равно вероятности клика\n",
    "                # умноженной на ценность минус стоимость клика\n",
    "                cur_deviant_profit = (ad._value - cost) * ad.prob * p\n",
    "                break\n",
    "        \n",
    "        if deviant_advert_func is not None:\n",
    "            # разыгрываем аукцион как будто девиант ведет себя честно\n",
    "            deviant.get_bid_func = None\n",
    "            winners_bl, costs_bl = auc(ads, position_prob)\n",
    "            \n",
    "            honest_deviant_profit = 0.0\n",
    "            for p, (ad, cost) in zip(position_prob, zip(winners_bl, costs_bl)):\n",
    "                if ad == deviant:\n",
    "                    honest_deviant_profit = (ad._value - cost) * ad.prob * p\n",
    "                    break\n",
    "                    \n",
    "            # если честный профит меньше нечестного - фейлим тест\n",
    "            if cur_deviant_profit > honest_deviant_profit:\n",
    "                if debug:\n",
    "                    print('Fail')\n",
    "                    print('Deviant auction results:')\n",
    "                    for ad in ads:\n",
    "                        try:\n",
    "                            idx = winners.index(ad)\n",
    "                            print('Ad:', ad, 'Win:', idx, 'Bid:', deviant_advert_func(ad, ads), 'Cost:', costs[idx])\n",
    "                        except:\n",
    "                            print('Ad:', ad)\n",
    "                    print()\n",
    "                    print('Honest auction results:')\n",
    "                    for ad in ads:\n",
    "                        try:\n",
    "                            idx = winners_bl.index(ad)\n",
    "                            print('Ad:', ad, 'Win:', idx, 'Bid:', Advert.get_bid(ad, ads), 'Cost:', costs[idx])\n",
    "                        except:\n",
    "                            print('Ad:', ad)\n",
    "                    print()\n",
    "                    print()\n",
    "                    \n",
    "                return False, cur_deviant_profit - honest_deviant_profit\n",
    "            \n",
    "    return True, 0.0"
   ]
  },
  {
   "cell_type": "markdown",
   "metadata": {},
   "source": [
    "#### Стратегии ставок\n",
    "\n",
    "Далее для примера приводится несколько стратегий ставок отличных от честной.\n",
    "\n",
    "Первая стратегия: ставить `value - eps` для некоторого параметра `eps`.\n",
    "\n",
    "Вторая стратегия: ставить такое значение, чтобы переместиться на `pos_delta` позиций ниже по аукциону и еще плюс `eps`.\n",
    "\n",
    "Вы вольны предложить свои стратегии ставок, которые вы считаете уменее, чем предложенные."
   ]
  },
  {
   "cell_type": "code",
   "execution_count": null,
   "metadata": {},
   "outputs": [],
   "source": [
    "def create_eps_strategy(eps):\n",
    "    def minus_eps_bid(self, ads):\n",
    "        return max(self._value - eps, 1e-5)\n",
    "    return minus_eps_bid\n",
    "\n",
    "def create_eps_pos_strategy(pos_delta, eps):\n",
    "    def minus_eps_pos_bid(self, ads):\n",
    "        winners = sorted(ads, key=lambda ad: ad.prob * ad._value, reverse=True)\n",
    "        idx = winners.index(self)\n",
    "        idx = max(0, min(idx + pos_delta, len(ads) - 1))\n",
    "        return max(winners[idx]._value * winners[idx].prob / self.prob + eps, 1e-5)\n",
    "    return minus_eps_pos_bid\n",
    "\n",
    "STRATEGIES = [\n",
    "    create_eps_strategy(+0.5),\n",
    "    create_eps_strategy(-0.5),\n",
    "    create_eps_strategy(+2),\n",
    "    create_eps_strategy(-2),\n",
    "    create_eps_pos_strategy(+1, +1e-5),\n",
    "    create_eps_pos_strategy(-1, +1e-5),\n",
    "    create_eps_pos_strategy(+1, -1e-5),\n",
    "    create_eps_pos_strategy(-1, -1e-5),\n",
    "    create_eps_pos_strategy(+5, +1e-5),\n",
    "    create_eps_pos_strategy(-5, +1e-5),\n",
    "    create_eps_pos_strategy(+5, -1e-5),\n",
    "    create_eps_pos_strategy(-5, -1e-5),\n",
    "]\n",
    "\n",
    "def test_deviant_strategies(aucs):\n",
    "    # пример вероятностей клика по позиции\n",
    "    # можно менять на своё усмотрение    \n",
    "    position_prob = [0.9, 0.7, 0.5, 0.4]\n",
    "    for auc in aucs:\n",
    "        for si, strategy in enumerate(STRATEGIES):\n",
    "            for n in range(1, len(position_prob) + 1):\n",
    "                ok, profit = test_deviant_strategy(auc, position_prob[:n], deviant_advert_func=strategy, debug=False)\n",
    "                if not ok:\n",
    "                    auc_name = auc.__name__\n",
    "                    strategy_name = strategy.__name__ \n",
    "                    print('Auction `%s` is cheated with strategy `%d: %s` with profit %s' % (auc_name, si, strategy_name, profit))                    \n",
    "    print('Done')"
   ]
  },
  {
   "cell_type": "markdown",
   "metadata": {},
   "source": [
    "#### Тестируем простые аукционы\n",
    "Предложенные аукционы первой и следующей цены проваливают тест на половине стратегий"
   ]
  },
  {
   "cell_type": "code",
   "execution_count": null,
   "metadata": {},
   "outputs": [],
   "source": [
    "test_deviant_strategies([auction_first_price, auction_next_price])"
   ]
  },
  {
   "cell_type": "markdown",
   "metadata": {},
   "source": [
    "#### Тестируем Ваш код\n",
    "Правильно написанный аукцион vcg должен пройти все тесты"
   ]
  },
  {
   "cell_type": "code",
   "execution_count": null,
   "metadata": {},
   "outputs": [],
   "source": [
    "test_deviant_strategies([auction_vcg])"
   ]
  }
 ],
 "metadata": {
  "kernelspec": {
   "display_name": "Python 3",
   "language": "python",
   "name": "python3"
  },
  "language_info": {
   "codemirror_mode": {
    "name": "ipython",
    "version": 3
   },
   "file_extension": ".py",
   "mimetype": "text/x-python",
   "name": "python",
   "nbconvert_exporter": "python",
   "pygments_lexer": "ipython3",
   "version": "3.7.2"
  }
 },
 "nbformat": 4,
 "nbformat_minor": 2
}
