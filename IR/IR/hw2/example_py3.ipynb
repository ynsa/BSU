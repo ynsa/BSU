{
 "cells": [
  {
   "cell_type": "code",
   "execution_count": null,
   "metadata": {},
   "outputs": [
    {
     "name": "stdout",
     "output_type": "stream",
     "text": [
      "5258\n"
     ]
    }
   ],
   "source": [
    "import tarfile\n",
    "\n",
    "all_docs_content = {}\n",
    "with tarfile.open('./collection.tar.bz2', 'r:bz2') as tf:\n",
    "        for ti in tf:\n",
    "            byte_content = tf.extractfile(ti).read()\n",
    "            all_docs_content[ti.name] = byte_content\n",
    "\n",
    "print(len(all_docs_content))"
   ]
  }
 ],
 "metadata": {
  "kernelspec": {
   "display_name": "Python 3",
   "language": "python",
   "name": "python3"
  },
  "language_info": {
   "codemirror_mode": {
    "name": "ipython",
    "version": 3
   },
   "file_extension": ".py",
   "mimetype": "text/x-python",
   "name": "python",
   "nbconvert_exporter": "python",
   "pygments_lexer": "ipython3",
   "version": "3.7.2"
  }
 },
 "nbformat": 4,
 "nbformat_minor": 2
}
